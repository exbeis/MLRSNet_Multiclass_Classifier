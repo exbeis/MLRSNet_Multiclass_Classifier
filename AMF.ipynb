{
 "cells": [
  {
   "cell_type": "code",
   "execution_count": 2,
   "metadata": {},
   "outputs": [],
   "source": [
    "import numpy as np\n",
    "import os\n",
    "from PIL import Image"
   ]
  },
  {
   "cell_type": "code",
   "execution_count": 3,
   "metadata": {},
   "outputs": [],
   "source": [
    "#AMF\n",
    "def rgb2gray(rgb):\n",
    "    if(len(rgb.shape) == 3):\n",
    "        return np.uint8(np.dot(rgb[...,:3], [0.2989, 0.5870, 0.1140]))\n",
    "    else:\n",
    "        return rgb\n",
    "\n",
    "def calculate_median(array):\n",
    "    \"\"\"Return the median of 1-d array\"\"\"\n",
    "    sorted_array = np.sort(array) #timsort (O(nlogn))\n",
    "    median = sorted_array[len(array)//2]\n",
    "    return median\n",
    "\n",
    "def level_A(z_min, z_med, z_max, z_xy, S_xy, S_max):\n",
    "    if(z_min < z_med < z_max):\n",
    "        return level_B(z_min, z_med, z_max, z_xy, S_xy, S_max)\n",
    "    else:\n",
    "        S_xy += 2 #increase the size of S_xy to the next odd value.\n",
    "        if(S_xy <= S_max): #repeat process\n",
    "            return level_A(z_min, z_med, z_max, z_xy, S_xy, S_max)\n",
    "        else:\n",
    "            return z_med\n",
    "        \n",
    "def level_B(z_min, z_med, z_max, z_xy, S_xy, S_max):\n",
    "    if(z_min < z_xy < z_max):\n",
    "        return z_xy\n",
    "    else:\n",
    "        return z_med\n",
    "    \n",
    "def amf(image, initial_window, max_window):\n",
    "    \"\"\"runs the AMF process on an image\"\"\"\n",
    "    xlength, ylength = image.shape #get the shape of the image.\n",
    "    \n",
    "    z_min, z_med, z_max, z_xy = 0, 0, 0, 0\n",
    "    S_max = max_window\n",
    "    S_xy = initial_window #dynamically to grow\n",
    "    \n",
    "    output_image = image.copy()\n",
    "    \n",
    "    for row in range(S_xy, xlength-S_xy-1):\n",
    "        for col in range(S_xy, ylength-S_xy-1):\n",
    "            filter_window = image[row - S_xy : row + S_xy + 1, col - S_xy : col + S_xy + 1] #filter window\n",
    "            target = filter_window.reshape(-1) #make 1-dimensional\n",
    "            z_min = np.min(target) #min of intensity values\n",
    "            z_max = np.max(target) #max of intensity values\n",
    "            z_med = calculate_median(target) #median of intensity values\n",
    "            z_xy = image[row, col] #current intensity\n",
    "            \n",
    "            #Level A & B\n",
    "            new_intensity = level_A(z_min, z_med, z_max, z_xy, S_xy, S_max)\n",
    "            output_image[row, col] = new_intensity\n",
    "    return output_image"
   ]
  },
  {
   "cell_type": "code",
   "execution_count": 6,
   "metadata": {},
   "outputs": [],
   "source": [
    "PATH = 'MLRSNet Dataset\\\\MLRSNet for Semantic Scene Understanding\\\\Images' #TODO Change if Necessary\n",
    "\n",
    "NUM_CLASSES = 22 #TODO Change if needed\n",
    "NUM_DATAPOINTS = 7000 #TODO Change if needed\n",
    "num_each_class = int(np.ceil(NUM_DATAPOINTS / NUM_CLASSES)) #304\n",
    "\n",
    "for FOLDER in os.listdir(PATH):\n",
    "    os.mkdir(f\"MLRSNet Dataset\\\\MLRSNet for Semantic Scene Understanding\\\\AMFImages_new\\\\{FOLDER}\")\n",
    "    files = os.listdir(f\"MLRSNet Dataset\\\\MLRSNet for Semantic Scene Understanding\\\\Images\\\\{FOLDER}\")\n",
    "    for file in files[304:num_each_class+50]:\n",
    "        image_orig = Image.open(f\"MLRSNet Dataset\\\\MLRSNet for Semantic Scene Understanding\\\\Images\\\\{FOLDER}\\\\{file}\")\n",
    "        grayscale_image = rgb2gray(np.array(image_orig)) #outputs a grayscaled image\n",
    "        output = amf(grayscale_image, initial_window=3, max_window=7)\n",
    "        amf_img = Image.fromarray(output)\n",
    "        amf_img.save(f\"MLRSNet Dataset\\\\MLRSNet for Semantic Scene Understanding\\\\AMFImages_new\\\\{FOLDER}\\\\{file}\")"
   ]
  }
 ],
 "metadata": {
  "kernelspec": {
   "display_name": "Python 3",
   "language": "python",
   "name": "python3"
  },
  "language_info": {
   "codemirror_mode": {
    "name": "ipython",
    "version": 3
   },
   "file_extension": ".py",
   "mimetype": "text/x-python",
   "name": "python",
   "nbconvert_exporter": "python",
   "pygments_lexer": "ipython3",
   "version": "3.12.3"
  }
 },
 "nbformat": 4,
 "nbformat_minor": 2
}
